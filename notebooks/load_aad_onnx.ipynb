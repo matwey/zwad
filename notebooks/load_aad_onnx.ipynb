{
 "cells": [
  {
   "cell_type": "code",
   "execution_count": 1,
   "id": "78455484",
   "metadata": {},
   "outputs": [],
   "source": [
    "import onnx\n",
    "import onnxruntime as rt"
   ]
  },
  {
   "cell_type": "code",
   "execution_count": 2,
   "id": "e3b27602",
   "metadata": {},
   "outputs": [],
   "source": [
    "import numpy as np\n",
    "import pandas as pd"
   ]
  },
  {
   "cell_type": "code",
   "execution_count": 3,
   "id": "e9dfb140",
   "metadata": {},
   "outputs": [],
   "source": [
    "from zwad.utils import load_data"
   ]
  },
  {
   "cell_type": "code",
   "execution_count": 4,
   "id": "30984915",
   "metadata": {},
   "outputs": [],
   "source": [
    "names, features = load_data([\"../oid_m31.dat\"], [\"../feature_m31.dat\"])"
   ]
  },
  {
   "cell_type": "code",
   "execution_count": 5,
   "id": "2135e195",
   "metadata": {},
   "outputs": [
    {
     "name": "stdout",
     "output_type": "stream",
     "text": [
      "Inputs: ['X']\n",
      "Outputs: ['score']\n"
     ]
    }
   ],
   "source": [
    "sess = rt.InferenceSession(\"aad.onnx\")\n",
    "\n",
    "print(\"Inputs: {}\".format([x.name for x in sess.get_inputs()]))\n",
    "print(\"Outputs: {}\".format([x.name for x in sess.get_outputs()]))\n",
    "\n",
    "input_name = 'X'\n",
    "label_name = 'score' "
   ]
  },
  {
   "cell_type": "code",
   "execution_count": 6,
   "id": "e29bc5b0",
   "metadata": {},
   "outputs": [],
   "source": [
    "scores = sess.run([label_name], {input_name: features.astype(np.float32)})[0]"
   ]
  },
  {
   "cell_type": "code",
   "execution_count": 7,
   "id": "3a629dd1",
   "metadata": {},
   "outputs": [
    {
     "data": {
      "text/plain": [
       "(57546, 1)"
      ]
     },
     "execution_count": 7,
     "metadata": {},
     "output_type": "execute_result"
    }
   ],
   "source": [
    "scores.shape"
   ]
  },
  {
   "cell_type": "code",
   "execution_count": 8,
   "id": "3b9066a7",
   "metadata": {},
   "outputs": [],
   "source": [
    "import matplotlib\n",
    "import matplotlib.pyplot as plt"
   ]
  },
  {
   "cell_type": "code",
   "execution_count": 9,
   "id": "324c0ab7",
   "metadata": {},
   "outputs": [
    {
     "data": {
      "image/png": "[encoded data removed]",
      "text/plain": [
       "<Figure size 432x288 with 1 Axes>"
      ]
     },
     "metadata": {
      "needs_background": "light"
     },
     "output_type": "display_data"
    }
   ],
   "source": [
    "_ = plt.hist(scores.reshape(-1), bins=25)"
   ]
  }
 ],
 "metadata": {
  "kernelspec": {
   "display_name": "Python 3",
   "language": "python",
   "name": "python3"
  },
  "language_info": {
   "codemirror_mode": {
    "name": "ipython",
    "version": 3
   },
   "file_extension": ".py",
   "mimetype": "text/x-python",
   "name": "python",
   "nbconvert_exporter": "python",
   "pygments_lexer": "ipython3",
   "version": "3.6.9"
  }
 },
 "nbformat": 4,
 "nbformat_minor": 5
}
